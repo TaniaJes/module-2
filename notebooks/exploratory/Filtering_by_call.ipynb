{
  "nbformat": 4,
  "nbformat_minor": 0,
  "metadata": {
    "colab": {
      "name": "Filtering_by_call.ipynb",
      "provenance": [],
      "private_outputs": true
    },
    "kernelspec": {
      "name": "python3",
      "display_name": "Python 3"
    }
  },
  "cells": [
    {
      "cell_type": "code",
      "metadata": {
        "id": "Nb5tK5OsPaIJ"
      },
      "source": [
        "import pandas as pd\n",
        "import seaborn as sns\n",
        "import matplotlib.pyplot as plt\n",
        "import numpy as np\n",
        "\n",
        "# This is the correct formula with the squared std\n",
        "def welch_t_test(row):\n",
        "    return (\n",
        "        (row['ALL_mean'] - row['AML_mean']) / \n",
        "        np.sqrt(\n",
        "            row['ALL_std']**2/len(ALL_SAMP) + row['AML_std']**2/len(AML_SAMP)\n",
        "        )\n",
        "    )\n",
        "\n",
        "df = pd.read_csv(\n",
        "    'http://pubs.broadinstitute.org/mpr/projects/Leukemia/data_set_ALL_AML_train.txt',\n",
        "    sep='\\t',\n",
        "    index_col=False\n",
        "    )\n",
        "\n",
        "# cols = df.columns\n",
        "\n",
        "# df = df.reset_index().drop(columns='call.37')\n",
        "# df.columns = cols\n",
        "df"
      ],
      "execution_count": null,
      "outputs": []
    },
    {
      "cell_type": "code",
      "metadata": {
        "id": "zKgZKiEFViNZ"
      },
      "source": [
        "NUM_SAMPLES = 38"
      ],
      "execution_count": null,
      "outputs": []
    },
    {
      "cell_type": "code",
      "metadata": {
        "id": "ytQoebNjPhvf"
      },
      "source": [
        "df_calls = df[df.columns[df.columns.str.contains(\"call\")]]\n",
        "df_calls.head()"
      ],
      "execution_count": null,
      "outputs": []
    },
    {
      "cell_type": "code",
      "metadata": {
        "id": "MaOFydQfPieu"
      },
      "source": [
        "(df_calls == 'P').head()"
      ],
      "execution_count": null,
      "outputs": []
    },
    {
      "cell_type": "code",
      "metadata": {
        "id": "zWF9fTkwUjxb"
      },
      "source": [
        "df[\"Num_Present\"] = (df_calls == 'P').sum(axis=1)\n",
        "df[\"prop_present\"] = df[\"Num_Present\"] / NUM_SAMPLES"
      ],
      "execution_count": null,
      "outputs": []
    },
    {
      "cell_type": "code",
      "metadata": {
        "id": "NAB4RexqU1k1"
      },
      "source": [
        "df.sort_values(\"prop_present\")"
      ],
      "execution_count": null,
      "outputs": []
    },
    {
      "cell_type": "code",
      "metadata": {
        "id": "0RwfrywAVxET"
      },
      "source": [
        "df.loc[df[\"prop_present\"] >= 1.0].shape"
      ],
      "execution_count": null,
      "outputs": []
    },
    {
      "cell_type": "code",
      "metadata": {
        "id": "iF7uu2X4V7vo"
      },
      "source": [
        ""
      ],
      "execution_count": null,
      "outputs": []
    }
  ]
}